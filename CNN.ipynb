{
 "cells": [
  {
   "cell_type": "code",
   "execution_count": 1,
   "metadata": {},
   "outputs": [],
   "source": [
    "import pandas as pd\n",
    "import numpy as np\n",
    "import random as rn\n",
    "import tensorflow as tf\n",
    "\n",
    "df = pd.read_pickle('mnist_data.pkl')\n",
    "\n",
    "train_labels = np.array([df['trainLabels']])\n",
    "train_images = np.array([df['trainImages']])\n",
    "\n",
    "test_images = np.array(df['testImages'])\n",
    "test_labels = np.array([df['testLabels']])\n",
    "\n",
    "SEED = 6\n",
    "np.random.seed(SEED)\n",
    "rn.seed(SEED)\n",
    "tf.random.set_seed(SEED)"
   ]
  },
  {
   "cell_type": "code",
   "execution_count": 2,
   "metadata": {},
   "outputs": [],
   "source": [
    "# from keras import backend as K\n",
    "# session_conf = tf.compat.v1.ConfigProto(intra_op_parallelism_threads=1, inter_op_parallelism_threads=1)\n",
    "# sess = tf.compat.v1.Session(graph=tf.compat.v1.get_default_graph(), config=session_conf)\n",
    "# K.set_session(sess)"
   ]
  },
  {
   "cell_type": "code",
   "execution_count": 2,
   "metadata": {},
   "outputs": [
    {
     "data": {
      "text/plain": [
       "array([[[0, 0, 0, ..., 0, 0, 0],\n",
       "        [0, 0, 0, ..., 0, 0, 0],\n",
       "        [0, 0, 0, ..., 0, 0, 0],\n",
       "        ...,\n",
       "        [0, 0, 0, ..., 0, 0, 0],\n",
       "        [0, 0, 0, ..., 0, 0, 0],\n",
       "        [0, 0, 0, ..., 0, 0, 0]]])"
      ]
     },
     "execution_count": 2,
     "metadata": {},
     "output_type": "execute_result"
    }
   ],
   "source": [
    "train_images"
   ]
  },
  {
   "cell_type": "code",
   "execution_count": 4,
   "metadata": {},
   "outputs": [
    {
     "data": {
      "text/plain": [
       "(200, 28, 28)"
      ]
     },
     "execution_count": 4,
     "metadata": {},
     "output_type": "execute_result"
    }
   ],
   "source": [
    "img = []\n",
    "for i in test_images:\n",
    "    val = []\n",
    "    k = 0\n",
    "    for j in range(28):\n",
    "        val.append(i[k:k+28])\n",
    "        k += 28\n",
    "    img.append(val)\n",
    "test_images = np.array(img)\n",
    "np.shape(img)"
   ]
  },
  {
   "cell_type": "code",
   "execution_count": 5,
   "metadata": {},
   "outputs": [
    {
     "data": {
      "text/plain": [
       "(800, 28, 28)"
      ]
     },
     "execution_count": 5,
     "metadata": {},
     "output_type": "execute_result"
    }
   ],
   "source": [
    "img = []\n",
    "for i in train_images[0]:\n",
    "    val = []\n",
    "    k = 0\n",
    "    for j in range(28):\n",
    "        val.append(i[k:k+28])\n",
    "        k += 28\n",
    "    # print(np.shape(val))\n",
    "    img.append(val)\n",
    "train_images = np.array(img)\n",
    "\n",
    "np.shape(train_images)"
   ]
  },
  {
   "cell_type": "code",
   "execution_count": 6,
   "metadata": {},
   "outputs": [],
   "source": [
    "train_images = train_images.reshape(800,28,28,1)\n",
    "test_images = test_images.reshape(200,28,28,1)"
   ]
  },
  {
   "cell_type": "code",
   "execution_count": 7,
   "metadata": {},
   "outputs": [
    {
     "data": {
      "text/plain": [
       "<matplotlib.image.AxesImage at 0x1a5888fcc40>"
      ]
     },
     "execution_count": 7,
     "metadata": {},
     "output_type": "execute_result"
    },
    {
     "data": {
      "image/png": "[encoded data removed]",
      "text/plain": [
       "<Figure size 432x288 with 1 Axes>"
      ]
     },
     "metadata": {
      "needs_background": "light"
     },
     "output_type": "display_data"
    }
   ],
   "source": [
    "import matplotlib.pyplot as plt\n",
    "\n",
    "plt.imshow(img[0])\n"
   ]
  },
  {
   "cell_type": "code",
   "execution_count": 8,
   "metadata": {},
   "outputs": [
    {
     "data": {
      "text/plain": [
       "array([[0., 0., 0., ..., 0., 0., 0.],\n",
       "       [1., 0., 0., ..., 0., 0., 0.],\n",
       "       [0., 0., 0., ..., 0., 0., 0.],\n",
       "       ...,\n",
       "       [0., 0., 0., ..., 0., 0., 0.],\n",
       "       [0., 0., 0., ..., 1., 0., 0.],\n",
       "       [0., 0., 0., ..., 0., 0., 0.]], dtype=float32)"
      ]
     },
     "execution_count": 8,
     "metadata": {},
     "output_type": "execute_result"
    }
   ],
   "source": [
    "from keras.utils import to_categorical\n",
    "\n",
    "y_train = to_categorical(train_labels)\n",
    "y_test = to_categorical(test_labels)\n",
    "y_train[0]\n"
   ]
  },
  {
   "cell_type": "code",
   "execution_count": 9,
   "metadata": {},
   "outputs": [],
   "source": [
    "from keras.models import Sequential\n",
    "from keras.layers import Dense, Dropout, Conv2D, Flatten, MaxPooling2D, AveragePooling2D\n",
    "from keras import regularizers\n",
    "#create model\n",
    "model = Sequential()\n",
    "\n",
    "#add model layers\n",
    "model.add(Conv2D(32, kernel_size=3, activation='relu', input_shape=(28,28,1)))\n",
    "#model.add(MaxPooling2D((2, 2)))\n",
    "model.add(Conv2D(64, kernel_size=3, activation='relu'))\n",
    "# model.add(MaxPooling2D((2, 2)))\n",
    "# model.add(Conv2D(64, kernel_size=3, activation='relu'))\n",
    "# # model.add(MaxPooling2D((2, 2)))\n",
    "# model.add(Conv2D(64, kernel_size=3, activation='relu'))\n",
    "model.add(MaxPooling2D((2, 2)))\n",
    "model.add(Flatten())\n",
    "model.add(Dropout(0.85))\n",
    "model.add(Dense(10, activation='softmax'))"
   ]
  },
  {
   "cell_type": "code",
   "execution_count": 10,
   "metadata": {},
   "outputs": [],
   "source": [
    "#compile model using accuracy to measure model performance\n",
    "\n",
    "model.compile(optimizer='adam', loss='categorical_crossentropy', metrics=['accuracy'])"
   ]
  },
  {
   "cell_type": "code",
   "execution_count": 11,
   "metadata": {},
   "outputs": [
    {
     "name": "stdout",
     "output_type": "stream",
     "text": [
      "Epoch 1/18\n",
      "23/23 [==============================] - 3s 63ms/step - loss: 0.1738 - accuracy: 0.1236 - val_loss: 0.1850 - val_accuracy: 0.0750\n",
      "Epoch 2/18\n",
      "23/23 [==============================] - 1s 57ms/step - loss: 0.1724 - accuracy: 0.1347 - val_loss: 0.1850 - val_accuracy: 0.0750\n",
      "Epoch 3/18\n",
      "23/23 [==============================] - 1s 59ms/step - loss: 0.1677 - accuracy: 0.1583 - val_loss: 0.1850 - val_accuracy: 0.0750\n",
      "Epoch 4/18\n",
      "23/23 [==============================] - 1s 54ms/step - loss: 0.1725 - accuracy: 0.1375 - val_loss: 0.1850 - val_accuracy: 0.0750\n",
      "Epoch 5/18\n",
      "23/23 [==============================] - 1s 65ms/step - loss: 0.1738 - accuracy: 0.1292 - val_loss: 0.1850 - val_accuracy: 0.0750\n",
      "Epoch 6/18\n",
      "23/23 [==============================] - 1s 58ms/step - loss: 0.1724 - accuracy: 0.1361 - val_loss: 0.1827 - val_accuracy: 0.0875\n",
      "Epoch 7/18\n",
      "23/23 [==============================] - 1s 62ms/step - loss: 0.1723 - accuracy: 0.1375 - val_loss: 0.1725 - val_accuracy: 0.1375\n",
      "Epoch 8/18\n",
      "23/23 [==============================] - 1s 60ms/step - loss: 0.1759 - accuracy: 0.1194 - val_loss: 0.1775 - val_accuracy: 0.1125\n",
      "Epoch 9/18\n",
      "23/23 [==============================] - 1s 62ms/step - loss: 0.1770 - accuracy: 0.1125 - val_loss: 0.1770 - val_accuracy: 0.1125\n",
      "Epoch 10/18\n",
      "23/23 [==============================] - 1s 61ms/step - loss: 0.1718 - accuracy: 0.1403 - val_loss: 0.1850 - val_accuracy: 0.0750\n",
      "Epoch 11/18\n",
      "23/23 [==============================] - 1s 58ms/step - loss: 0.1736 - accuracy: 0.1319 - val_loss: 0.1850 - val_accuracy: 0.0750\n",
      "Epoch 12/18\n",
      "23/23 [==============================] - 1s 57ms/step - loss: 0.1736 - accuracy: 0.1319 - val_loss: 0.1850 - val_accuracy: 0.0750\n",
      "Epoch 13/18\n",
      "23/23 [==============================] - 1s 61ms/step - loss: 0.1702 - accuracy: 0.1486 - val_loss: 0.1825 - val_accuracy: 0.0875\n",
      "Epoch 14/18\n",
      "23/23 [==============================] - 1s 59ms/step - loss: 0.1652 - accuracy: 0.1736 - val_loss: 0.1725 - val_accuracy: 0.1375\n",
      "Epoch 15/18\n",
      "23/23 [==============================] - 1s 64ms/step - loss: 0.1595 - accuracy: 0.2000 - val_loss: 0.1725 - val_accuracy: 0.1375\n",
      "Epoch 16/18\n",
      "23/23 [==============================] - 1s 62ms/step - loss: 0.1608 - accuracy: 0.1944 - val_loss: 0.1750 - val_accuracy: 0.1250\n",
      "Epoch 17/18\n",
      "23/23 [==============================] - 2s 67ms/step - loss: 0.1625 - accuracy: 0.1875 - val_loss: 0.1722 - val_accuracy: 0.1375\n",
      "Epoch 18/18\n",
      "23/23 [==============================] - 1s 65ms/step - loss: 0.1600 - accuracy: 0.2000 - val_loss: 0.1725 - val_accuracy: 0.1375\n"
     ]
    }
   ],
   "source": [
    "#train the model\n",
    "history = model.fit(train_images, y_train[0], validation_split=0.1, epochs=18)"
   ]
  },
  {
   "cell_type": "code",
   "execution_count": 12,
   "metadata": {},
   "outputs": [
    {
     "data": {
      "text/plain": [
       "{'loss': [0.17377232015132904,\n",
       "  0.1723741888999939,\n",
       "  0.16771431267261505,\n",
       "  0.17247329652309418,\n",
       "  0.17377935349941254,\n",
       "  0.1724165678024292,\n",
       "  0.17225833237171173,\n",
       "  0.17589698731899261,\n",
       "  0.1770319938659668,\n",
       "  0.1717853993177414,\n",
       "  0.1736053079366684,\n",
       "  0.1735931634902954,\n",
       "  0.17021238803863525,\n",
       "  0.165180042386055,\n",
       "  0.15954162180423737,\n",
       "  0.16076886653900146,\n",
       "  0.16247472167015076,\n",
       "  0.15996205806732178],\n",
       " 'accuracy': [0.12361110746860504,\n",
       "  0.13472221791744232,\n",
       "  0.15833333134651184,\n",
       "  0.13750000298023224,\n",
       "  0.12916666269302368,\n",
       "  0.13611111044883728,\n",
       "  0.13750000298023224,\n",
       "  0.11944444477558136,\n",
       "  0.11249999701976776,\n",
       "  0.14027777314186096,\n",
       "  0.1319444477558136,\n",
       "  0.1319444477558136,\n",
       "  0.14861111342906952,\n",
       "  0.1736111044883728,\n",
       "  0.20000000298023224,\n",
       "  0.1944444477558136,\n",
       "  0.1875,\n",
       "  0.20000000298023224],\n",
       " 'val_loss': [0.1850000023841858,\n",
       "  0.1849992573261261,\n",
       "  0.1850000023841858,\n",
       "  0.1850000023841858,\n",
       "  0.1849977672100067,\n",
       "  0.18271654844284058,\n",
       "  0.17249999940395355,\n",
       "  0.17749999463558197,\n",
       "  0.17702458798885345,\n",
       "  0.1850000023841858,\n",
       "  0.1850000023841858,\n",
       "  0.1850000023841858,\n",
       "  0.18250000476837158,\n",
       "  0.17249763011932373,\n",
       "  0.17249976098537445,\n",
       "  0.1749952882528305,\n",
       "  0.1721872091293335,\n",
       "  0.1725037842988968],\n",
       " 'val_accuracy': [0.07500000298023224,\n",
       "  0.07500000298023224,\n",
       "  0.07500000298023224,\n",
       "  0.07500000298023224,\n",
       "  0.07500000298023224,\n",
       "  0.08749999850988388,\n",
       "  0.13750000298023224,\n",
       "  0.11249999701976776,\n",
       "  0.11249999701976776,\n",
       "  0.07500000298023224,\n",
       "  0.07500000298023224,\n",
       "  0.07500000298023224,\n",
       "  0.08749999850988388,\n",
       "  0.13750000298023224,\n",
       "  0.13750000298023224,\n",
       "  0.125,\n",
       "  0.13750000298023224,\n",
       "  0.13750000298023224]}"
      ]
     },
     "execution_count": 12,
     "metadata": {},
     "output_type": "execute_result"
    }
   ],
   "source": [
    "history.history"
   ]
  },
  {
   "cell_type": "code",
   "execution_count": 13,
   "metadata": {},
   "outputs": [
    {
     "data": {
      "image/png": "[encoded data removed]",
      "text/plain": [
       "<Figure size 432x288 with 1 Axes>"
      ]
     },
     "metadata": {
      "needs_background": "light"
     },
     "output_type": "display_data"
    }
   ],
   "source": [
    "import matplotlib.pyplot as plt\n",
    "\n",
    "plt.plot(history.history[\"accuracy\"])\n",
    "plt.plot(history.history[\"val_accuracy\"])\n",
    "plt.title(\"Model accuracy\")\n",
    "plt.ylabel(\"Accuracy\")\n",
    "plt.xlabel(\"Epoch\")\n",
    "plt.legend([\"Train\", \"Validation\"], loc=\"upper left\")\n",
    "plt.show()"
   ]
  },
  {
   "cell_type": "code",
   "execution_count": 14,
   "metadata": {},
   "outputs": [
    {
     "data": {
      "image/png": "[encoded data removed]",
      "text/plain": [
       "<Figure size 432x288 with 1 Axes>"
      ]
     },
     "metadata": {
      "needs_background": "light"
     },
     "output_type": "display_data"
    }
   ],
   "source": [
    "plt.plot(history.history[\"loss\"])\n",
    "plt.plot(history.history[\"val_loss\"])\n",
    "plt.title(\"Model loss\")\n",
    "plt.ylabel(\"Loss\")\n",
    "plt.xlabel(\"Epoch\")\n",
    "plt.legend([\"Train\", \"Validation\"], loc=\"upper left\")\n",
    "plt.show()"
   ]
  },
  {
   "cell_type": "code",
   "execution_count": 15,
   "metadata": {},
   "outputs": [
    {
     "name": "stdout",
     "output_type": "stream",
     "text": [
      "7/7 [==============================] - 0s 13ms/step - loss: 0.1589 - accuracy: 0.2050\n",
      "Test loss: 0.1589365452528\n",
      "Test accuracy: 0.20499999821186066\n"
     ]
    }
   ],
   "source": [
    "loss, accuracy = model.evaluate(test_images, y_test[0], verbose=1)\n",
    "\n",
    "print(\"Test loss:\", loss)\n",
    "print(\"Test accuracy:\", accuracy)"
   ]
  }
 ],
 "metadata": {
  "kernelspec": {
   "display_name": "Python 3",
   "language": "python",
   "name": "python3"
  },
  "language_info": {
   "codemirror_mode": {
    "name": "ipython",
    "version": 3
   },
   "file_extension": ".py",
   "mimetype": "text/x-python",
   "name": "python",
   "nbconvert_exporter": "python",
   "pygments_lexer": "ipython3",
   "version": "3.10.5"
  },
  "orig_nbformat": 4,
  "vscode": {
   "interpreter": {
    "hash": "369f2c481f4da34e4445cda3fffd2e751bd1c4d706f27375911949ba6bb62e1c"
   }
  }
 },
 "nbformat": 4,
 "nbformat_minor": 2
}
