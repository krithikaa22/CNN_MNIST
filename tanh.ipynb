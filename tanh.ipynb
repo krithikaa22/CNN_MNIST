{
 "cells": [
  {
   "cell_type": "code",
   "execution_count": 12,
   "metadata": {},
   "outputs": [],
   "source": [
    "import pandas as pd\n",
    "import numpy as np\n",
    "import random as rn\n",
    "import tensorflow as tf\n",
    "\n",
    "df = pd.read_pickle('mnist_data.pkl')\n",
    "\n",
    "train_labels = np.array([df['trainLabels']])\n",
    "train_images = np.array([df['trainImages']])\n",
    "\n",
    "test_images = np.array(df['testImages'])\n",
    "test_labels = np.array([df['testLabels']])\n",
    "\n",
    "SEED = 6\n",
    "np.random.seed(SEED)\n",
    "rn.seed(SEED)\n",
    "tf.random.set_seed(SEED)"
   ]
  },
  {
   "cell_type": "code",
   "execution_count": 13,
   "metadata": {},
   "outputs": [
    {
     "data": {
      "text/plain": [
       "(800, 28, 28)"
      ]
     },
     "execution_count": 13,
     "metadata": {},
     "output_type": "execute_result"
    }
   ],
   "source": [
    "img = []\n",
    "for i in train_images[0]:\n",
    "    val = []\n",
    "    k = 0\n",
    "    for j in range(28):\n",
    "        val.append(i[k:k+28])\n",
    "        k += 28\n",
    "    # print(np.shape(val))\n",
    "    img.append(val)\n",
    "train_images = np.array(img)\n",
    "\n",
    "np.shape(train_images)"
   ]
  },
  {
   "cell_type": "code",
   "execution_count": 14,
   "metadata": {},
   "outputs": [
    {
     "data": {
      "text/plain": [
       "(200, 28, 28)"
      ]
     },
     "execution_count": 14,
     "metadata": {},
     "output_type": "execute_result"
    }
   ],
   "source": [
    "img = []\n",
    "for i in test_images:\n",
    "    val = []\n",
    "    k = 0\n",
    "    for j in range(28):\n",
    "        val.append(i[k:k+28])\n",
    "        k += 28\n",
    "    # print(np.shape(val))\n",
    "    img.append(val)\n",
    "test_images = np.array(img)\n",
    "\n",
    "np.shape(test_images)"
   ]
  },
  {
   "cell_type": "code",
   "execution_count": 15,
   "metadata": {},
   "outputs": [],
   "source": [
    "train_images = train_images.reshape(800,28,28,1)\n",
    "test_images = test_images.reshape(200,28,28,1)"
   ]
  },
  {
   "cell_type": "code",
   "execution_count": 16,
   "metadata": {},
   "outputs": [
    {
     "data": {
      "text/plain": [
       "array([[0., 0., 0., ..., 0., 0., 0.],\n",
       "       [1., 0., 0., ..., 0., 0., 0.],\n",
       "       [0., 0., 0., ..., 0., 0., 0.],\n",
       "       ...,\n",
       "       [0., 0., 0., ..., 0., 0., 0.],\n",
       "       [0., 0., 0., ..., 1., 0., 0.],\n",
       "       [0., 0., 0., ..., 0., 0., 0.]], dtype=float32)"
      ]
     },
     "execution_count": 16,
     "metadata": {},
     "output_type": "execute_result"
    }
   ],
   "source": [
    "from keras.utils import to_categorical\n",
    "\n",
    "y_train = to_categorical(train_labels)\n",
    "y_test = to_categorical(test_labels)\n",
    "y_train[0]\n"
   ]
  },
  {
   "cell_type": "code",
   "execution_count": 17,
   "metadata": {},
   "outputs": [],
   "source": [
    "from keras.models import Sequential\n",
    "from keras.layers import Dense, Dropout, Conv2D, Flatten, MaxPooling2D, AveragePooling2D\n",
    "from keras import regularizers\n",
    "#create model\n",
    "model = Sequential()\n",
    "\n",
    "#add model layers\n",
    "model.add(Conv2D(32, kernel_size=3, activation='tanh', input_shape=(28,28,1)))\n",
    "#model.add(MaxPooling2D((2, 2)))\n",
    "model.add(Conv2D(64, kernel_size=3, activation='tanh'))\n",
    "# model.add(MaxPooling2D((2, 2)))\n",
    "# model.add(Conv2D(64, kernel_size=3, activation='tanh'))\n",
    "# # model.add(MaxPooling2D((2, 2)))\n",
    "# model.add(Conv2D(64, kernel_size=3, activation='tanh'))\n",
    "model.add(MaxPooling2D((2, 2)))\n",
    "model.add(Flatten())\n",
    "model.add(Dropout(0.85))\n",
    "model.add(Dense(10, activation='softmax'))"
   ]
  },
  {
   "cell_type": "code",
   "execution_count": 18,
   "metadata": {},
   "outputs": [],
   "source": [
    "#compile model using accuracy to measure model performance\n",
    "model.compile(optimizer='adam', loss='categorical_crossentropy', metrics=['accuracy'])"
   ]
  },
  {
   "cell_type": "code",
   "execution_count": 19,
   "metadata": {},
   "outputs": [
    {
     "name": "stdout",
     "output_type": "stream",
     "text": [
      "Epoch 1/18\n",
      "23/23 [==============================] - 2s 54ms/step - loss: 0.0868 - accuracy: 0.3153 - val_loss: 0.0400 - val_accuracy: 0.7250\n",
      "Epoch 2/18\n",
      "23/23 [==============================] - 1s 48ms/step - loss: 0.0424 - accuracy: 0.6875 - val_loss: 0.0265 - val_accuracy: 0.8000\n",
      "Epoch 3/18\n",
      "23/23 [==============================] - 1s 56ms/step - loss: 0.0284 - accuracy: 0.7972 - val_loss: 0.0218 - val_accuracy: 0.8375\n",
      "Epoch 4/18\n",
      "23/23 [==============================] - 1s 55ms/step - loss: 0.0214 - accuracy: 0.8417 - val_loss: 0.0171 - val_accuracy: 0.8625\n",
      "Epoch 5/18\n",
      "23/23 [==============================] - 1s 57ms/step - loss: 0.0174 - accuracy: 0.8778 - val_loss: 0.0154 - val_accuracy: 0.8750\n",
      "Epoch 6/18\n",
      "23/23 [==============================] - 1s 59ms/step - loss: 0.0151 - accuracy: 0.8986 - val_loss: 0.0171 - val_accuracy: 0.8625\n",
      "Epoch 7/18\n",
      "23/23 [==============================] - 1s 62ms/step - loss: 0.0140 - accuracy: 0.9014 - val_loss: 0.0148 - val_accuracy: 0.9125\n",
      "Epoch 8/18\n",
      "23/23 [==============================] - 1s 57ms/step - loss: 0.0108 - accuracy: 0.9264 - val_loss: 0.0149 - val_accuracy: 0.8875\n",
      "Epoch 9/18\n",
      "23/23 [==============================] - 1s 60ms/step - loss: 0.0108 - accuracy: 0.9306 - val_loss: 0.0144 - val_accuracy: 0.9000\n",
      "Epoch 10/18\n",
      "23/23 [==============================] - 1s 59ms/step - loss: 0.0083 - accuracy: 0.9458 - val_loss: 0.0147 - val_accuracy: 0.9000\n",
      "Epoch 11/18\n",
      "23/23 [==============================] - 1s 52ms/step - loss: 0.0090 - accuracy: 0.9444 - val_loss: 0.0153 - val_accuracy: 0.9250\n",
      "Epoch 12/18\n",
      "23/23 [==============================] - 1s 54ms/step - loss: 0.0094 - accuracy: 0.9347 - val_loss: 0.0158 - val_accuracy: 0.8875\n",
      "Epoch 13/18\n",
      "23/23 [==============================] - 1s 55ms/step - loss: 0.0065 - accuracy: 0.9556 - val_loss: 0.0118 - val_accuracy: 0.9250\n",
      "Epoch 14/18\n",
      "23/23 [==============================] - 1s 55ms/step - loss: 0.0056 - accuracy: 0.9625 - val_loss: 0.0155 - val_accuracy: 0.8625\n",
      "Epoch 15/18\n",
      "23/23 [==============================] - 1s 58ms/step - loss: 0.0054 - accuracy: 0.9694 - val_loss: 0.0129 - val_accuracy: 0.8875\n",
      "Epoch 16/18\n",
      "23/23 [==============================] - 1s 57ms/step - loss: 0.0056 - accuracy: 0.9653 - val_loss: 0.0155 - val_accuracy: 0.9000\n",
      "Epoch 17/18\n",
      "23/23 [==============================] - 1s 57ms/step - loss: 0.0061 - accuracy: 0.9583 - val_loss: 0.0178 - val_accuracy: 0.8625\n",
      "Epoch 18/18\n",
      "23/23 [==============================] - 1s 60ms/step - loss: 0.0062 - accuracy: 0.9569 - val_loss: 0.0153 - val_accuracy: 0.8750\n"
     ]
    }
   ],
   "source": [
    "history = model.fit(train_images, y_train[0], validation_split=0.1, epochs=18)"
   ]
  },
  {
   "cell_type": "code",
   "execution_count": 20,
   "metadata": {},
   "outputs": [
    {
     "data": {
      "image/png": "[encoded data removed]",
      "text/plain": [
       "<Figure size 432x288 with 1 Axes>"
      ]
     },
     "metadata": {
      "needs_background": "light"
     },
     "output_type": "display_data"
    }
   ],
   "source": [
    "import matplotlib.pyplot as plt\n",
    "\n",
    "plt.plot(history.history[\"accuracy\"])\n",
    "plt.plot(history.history[\"val_accuracy\"])\n",
    "plt.title(\"Model accuracy\")\n",
    "plt.ylabel(\"Accuracy\")\n",
    "plt.xlabel(\"Epoch\")\n",
    "plt.legend([\"Train\", \"Validation\"], loc=\"upper left\")\n",
    "plt.show()"
   ]
  },
  {
   "cell_type": "code",
   "execution_count": 21,
   "metadata": {},
   "outputs": [
    {
     "data": {
      "image/png": "[encoded data removed]",
      "text/plain": [
       "<Figure size 432x288 with 1 Axes>"
      ]
     },
     "metadata": {
      "needs_background": "light"
     },
     "output_type": "display_data"
    }
   ],
   "source": [
    "plt.plot(history.history[\"loss\"])\n",
    "plt.plot(history.history[\"val_loss\"])\n",
    "plt.title(\"Model loss\")\n",
    "plt.ylabel(\"Loss\")\n",
    "plt.xlabel(\"Epoch\")\n",
    "plt.legend([\"Train\", \"Validation\"], loc=\"upper left\")\n",
    "plt.show()"
   ]
  },
  {
   "cell_type": "code",
   "execution_count": 22,
   "metadata": {},
   "outputs": [
    {
     "name": "stdout",
     "output_type": "stream",
     "text": [
      "7/7 [==============================] - 0s 15ms/step - loss: 0.0168 - accuracy: 0.8900\n",
      "Test loss: 0.016801554709672928\n",
      "Test accuracy: 0.8899999856948853\n"
     ]
    }
   ],
   "source": [
    "loss, accuracy = model.evaluate(test_images, y_test[0], verbose=1)\n",
    "\n",
    "print(\"Test loss:\", loss)\n",
    "print(\"Test accuracy:\", accuracy)"
   ]
  }
 ],
 "metadata": {
  "kernelspec": {
   "display_name": "Python 3",
   "language": "python",
   "name": "python3"
  },
  "language_info": {
   "codemirror_mode": {
    "name": "ipython",
    "version": 3
   },
   "file_extension": ".py",
   "mimetype": "text/x-python",
   "name": "python",
   "nbconvert_exporter": "python",
   "pygments_lexer": "ipython3",
   "version": "3.10.5"
  },
  "orig_nbformat": 4
 },
 "nbformat": 4,
 "nbformat_minor": 2
}
